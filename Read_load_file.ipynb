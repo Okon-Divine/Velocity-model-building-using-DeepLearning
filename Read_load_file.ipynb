{
 "cells": [
  {
   "cell_type": "code",
   "execution_count": null,
   "metadata": {},
   "outputs": [],
   "source": [
    "import segyio as sgy\n",
    "import os\n",
    "import numpy as np\n",
    "import h5py\n",
    "import re\n",
    "from sklearn.utils import shuffle\n",
    "from ml.preprocessing import sample_from_sgy, target_from_model, get_features, get_targets, write_data_to_h5\n",
    "\n",
    "# Data file to output results to\n",
    "data_file = 'depy'\n",
    "\n",
    "# Location of seicmic data and models\n",
    "BASE_DIR_SEISMIC = 'gm'\n",
    "BASE_DIR_MODELS = 'gm2'\n",
    "baseline_seismic = sgy.open('gm/all_shots_baseline.sgy', strict=False)\n",
    "baseline_model = np.fromfile('gm2/vp-base.bin', dtype='float32').reshape((128, 128))\n",
    "\n",
    "seismic = os.listdir(BASE_DIR_SEISMIC)\n",
    "models = os.listdir(BASE_DIR_MODELS)\n",
    "\n",
    "# Only include models 0-400 and 700-980 in training set\n",
    "pattern = re.compile('.*[4-6][0-9][0-9].*')\n",
    "seismic = [s for s in seismic if not pattern.match(s)]\n",
    "models = [s for s in models if not pattern.match(s)]\n",
    "\n",
    "# Shuffle data\n",
    "seismic, models = shuffle(seismic, models, random_state=1337)\n",
    "\n",
    "write_data_to_h5(data_file, BASE_DIR_SEISMIC, seismic, baseline_seismic, BASE_DIR_MODELS, models, baseline_model)"
   ]
  }
 ],
 "metadata": {
  "kernelspec": {
   "display_name": "Python 3",
   "language": "python",
   "name": "python3"
  },
  "language_info": {
   "codemirror_mode": {
    "name": "ipython",
    "version": 3
   },
   "file_extension": ".py",
   "mimetype": "text/x-python",
   "name": "python",
   "nbconvert_exporter": "python",
   "pygments_lexer": "ipython3",
   "version": "3.8.5"
  }
 },
 "nbformat": 4,
 "nbformat_minor": 4
}
